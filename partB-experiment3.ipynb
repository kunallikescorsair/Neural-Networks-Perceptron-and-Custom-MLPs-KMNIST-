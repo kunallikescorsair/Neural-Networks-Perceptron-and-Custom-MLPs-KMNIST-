{
  "nbformat": 4,
  "nbformat_minor": 0,
  "metadata": {
    "colab": {
      "provenance": [],
      "gpuType": "T4"
    },
    "kernelspec": {
      "name": "python3",
      "display_name": "Python 3"
    },
    "language_info": {
      "name": "python"
    },
    "accelerator": "GPU"
  },
  "cells": [
    {
      "cell_type": "markdown",
      "source": [
        "# Neural Networks with PyTorch\n",
        "\n",
        "In this assignment, we are going to train a Neural Networks on the Japanese MNIST dataset. It is composed of 70000 images of handwritten Hiragana characters. The target variables has 10 different classes.\n",
        "\n",
        "Each image is of dimension 28 by 28. But we will flatten them to form a dataset composed of vectors of dimension (784, 1). The training process will be similar as for a structured dataset.\n",
        "\n",
        "<img src='https://drive.google.com/uc?id=16TqEl9ESfXYbUpVafXD6h5UpJYGKfMxE' width=\"500\" height=\"200\">\n",
        "\n",
        "Your goal is to run at least 3 experiments and get a model that can achieve 80% accuracy with not much overfitting on this dataset.\n",
        "\n",
        "Some of the code have already been defined for you. You need only to add your code in the sections specified (marked with **TODO**). Some assert statements have been added to verify the expected outputs are correct. If it does throw an error, this means your implementation is behaving as expected.\n",
        "\n",
        "Note: You can only use fully-connected and dropout layers for this assignment. You can not convolution layers for instance"
      ],
      "metadata": {
        "id": "KNyZ-zZxlU6G"
      }
    },
    {
      "cell_type": "markdown",
      "source": [
        "# 1. Import Required Packages"
      ],
      "metadata": {
        "id": "iOufKqO8mw7n"
      }
    },
    {
      "cell_type": "markdown",
      "source": [
        "[1.1] We are going to use numpy, matplotlib and google.colab packages"
      ],
      "metadata": {
        "id": "b-sGJ26pmz4A"
      }
    },
    {
      "cell_type": "code",
      "execution_count": 3,
      "metadata": {
        "id": "oTGG80etnMAa"
      },
      "outputs": [],
      "source": [
        "# Mount Google Drive and import required libraries\n",
        "from google.colab import drive\n",
        "import numpy as np\n",
        "import matplotlib.pyplot as plt"
      ]
    },
    {
      "cell_type": "markdown",
      "source": [
        "# 2. Download Dataset\n",
        "\n",
        "We will store the dataset into your personal Google Drive.\n"
      ],
      "metadata": {
        "id": "Vyky0K3fnEFO"
      }
    },
    {
      "cell_type": "markdown",
      "source": [
        "[2.1] Mount Google Drive"
      ],
      "metadata": {
        "id": "ltUMtjG-nX-b"
      }
    },
    {
      "cell_type": "code",
      "source": [
        "# Mount Google Drive to access dataset or save outputs\n",
        "drive.mount('/content/gdrive')"
      ],
      "metadata": {
        "id": "N_FVrXICnMJM",
        "colab": {
          "base_uri": "https://localhost:8080/"
        },
        "outputId": "60cfbc69-6741-4084-8cf6-d6ee8b72f3b4"
      },
      "execution_count": 4,
      "outputs": [
        {
          "output_type": "stream",
          "name": "stdout",
          "text": [
            "Mounted at /content/gdrive\n"
          ]
        }
      ]
    },
    {
      "cell_type": "markdown",
      "source": [
        "[2.2] Create a folder called `DL_ASG_1` on your Google Drive at the root level"
      ],
      "metadata": {
        "id": "CzLtlKCHnT9H"
      }
    },
    {
      "cell_type": "code",
      "source": [
        "# Create a directory in Google Drive to store or access assignment files\n",
        "! mkdir -p /content/gdrive/MyDrive/DL_ASG_1"
      ],
      "metadata": {
        "id": "XZicoPks4POW"
      },
      "execution_count": 5,
      "outputs": []
    },
    {
      "cell_type": "markdown",
      "source": [
        "[2.3] Navigate to this folder"
      ],
      "metadata": {
        "id": "sToej_3CnePP"
      }
    },
    {
      "cell_type": "code",
      "source": [
        "# Navigate to the working directory in Google Drive where dataset files are stored\n",
        "%cd '/content/gdrive/MyDrive/DL_ASG_1'"
      ],
      "metadata": {
        "id": "g2oAXToKnpXj",
        "colab": {
          "base_uri": "https://localhost:8080/"
        },
        "outputId": "682bb6e8-b405-4e97-c383-cf21a184f1ce"
      },
      "execution_count": 6,
      "outputs": [
        {
          "output_type": "stream",
          "name": "stdout",
          "text": [
            "/content/gdrive/MyDrive/DL_ASG_1\n"
          ]
        }
      ]
    },
    {
      "cell_type": "markdown",
      "source": [
        "[2.4] Show the list of item on the folder\n",
        "\n"
      ],
      "metadata": {
        "id": "TnRHIyhlzUwL"
      }
    },
    {
      "cell_type": "code",
      "source": [
        "# Show the list of items in the current working directory\n",
        "!ls"
      ],
      "metadata": {
        "id": "Y-xYtezBzQ0c",
        "colab": {
          "base_uri": "https://localhost:8080/"
        },
        "outputId": "7ef60afb-bbdb-43cd-8a43-8cb33ae9ba61"
      },
      "execution_count": 7,
      "outputs": [
        {
          "output_type": "stream",
          "name": "stdout",
          "text": [
            "kmnist-test-imgs.npz  kmnist-test-labels.npz  kmnist-train-imgs.npz  kmnist-train-labels.npz\n"
          ]
        }
      ]
    },
    {
      "cell_type": "markdown",
      "source": [
        "[2.4] Dowload the dataset files to your Google Drive if required"
      ],
      "metadata": {
        "id": "3vlfobqnnjJ1"
      }
    },
    {
      "cell_type": "code",
      "source": [
        "# Download the dataset files to your Google Drive if required\n",
        "import requests\n",
        "from tqdm import tqdm\n",
        "import os.path\n",
        "\n",
        "def download_file(url):\n",
        "    path = url.split('/')[-1]\n",
        "    if os.path.isfile(path):\n",
        "        print (f\"{path} already exists\")\n",
        "    else:\n",
        "      r = requests.get(url, stream=True)\n",
        "      with open(path, 'wb') as f:\n",
        "          total_length = int(r.headers.get('content-length'))\n",
        "          print('Downloading {} - {:.1f} MB'.format(path, (total_length / 1024000)))\n",
        "          for chunk in tqdm(r.iter_content(chunk_size=1024), total=int(total_length / 1024) + 1, unit=\"KB\"):\n",
        "              if chunk:\n",
        "                  f.write(chunk)\n",
        "\n",
        "url_list = [\n",
        "    'http://codh.rois.ac.jp/kmnist/dataset/kmnist/kmnist-train-imgs.npz',\n",
        "    'http://codh.rois.ac.jp/kmnist/dataset/kmnist/kmnist-train-labels.npz',\n",
        "    'http://codh.rois.ac.jp/kmnist/dataset/kmnist/kmnist-test-imgs.npz',\n",
        "    'http://codh.rois.ac.jp/kmnist/dataset/kmnist/kmnist-test-labels.npz'\n",
        "]\n",
        "\n",
        "for url in url_list:\n",
        "    download_file(url)"
      ],
      "metadata": {
        "id": "M0owzTC427NM",
        "colab": {
          "base_uri": "https://localhost:8080/"
        },
        "outputId": "527b8830-1324-490f-ee07-d1f58b80ff4e"
      },
      "execution_count": 8,
      "outputs": [
        {
          "output_type": "stream",
          "name": "stdout",
          "text": [
            "kmnist-train-imgs.npz already exists\n",
            "kmnist-train-labels.npz already exists\n",
            "kmnist-test-imgs.npz already exists\n",
            "kmnist-test-labels.npz already exists\n"
          ]
        }
      ]
    },
    {
      "cell_type": "markdown",
      "source": [
        "[2.5] List the content of the folder and confirm files have been dowloaded properly"
      ],
      "metadata": {
        "id": "DVF_Cx7Hny2i"
      }
    },
    {
      "cell_type": "code",
      "source": [
        "# This is a simple validation step to ensure that the downloads in [2.4] completed successfully.\n",
        "! ls"
      ],
      "metadata": {
        "id": "vt6ZKf4fnqkq",
        "colab": {
          "base_uri": "https://localhost:8080/"
        },
        "outputId": "87c857ea-0786-4fca-950d-113ff7794284"
      },
      "execution_count": 9,
      "outputs": [
        {
          "output_type": "stream",
          "name": "stdout",
          "text": [
            "kmnist-test-imgs.npz  kmnist-test-labels.npz  kmnist-train-imgs.npz  kmnist-train-labels.npz\n"
          ]
        }
      ]
    },
    {
      "cell_type": "markdown",
      "source": [
        "# 3. Load Data"
      ],
      "metadata": {
        "id": "fvvfOON36hTf"
      }
    },
    {
      "cell_type": "markdown",
      "source": [
        "[3.1] Import the required modules from PyTorch"
      ],
      "metadata": {
        "id": "duFjgsyPoLPR"
      }
    },
    {
      "cell_type": "code",
      "source": [
        "# Import the required modules from PyTorch\n",
        "import torch\n",
        "import torch.nn as nn\n",
        "import torch.nn.functional as F\n",
        "import torch.optim as optim\n",
        "from torch.utils.data import DataLoader, TensorDataset, random_split"
      ],
      "metadata": {
        "id": "1zolHKEO7GZA"
      },
      "execution_count": 10,
      "outputs": []
    },
    {
      "cell_type": "markdown",
      "source": [
        "[3.2] **TODO** Create 2 variables called `img_height` and `img_width` that will both take the value 28"
      ],
      "metadata": {
        "id": "r4Aw5ObQoWdI"
      }
    },
    {
      "cell_type": "code",
      "source": [
        "# Set image dimensions for KMNIST dataset\n",
        "img_height = 28\n",
        "img_width = 28"
      ],
      "metadata": {
        "id": "Ip0NFeyjpj79"
      },
      "execution_count": 11,
      "outputs": []
    },
    {
      "cell_type": "markdown",
      "source": [
        "[3.3] Create a function that loads a .npz file using numpy and return the content of the `arr_0` key"
      ],
      "metadata": {
        "id": "hmX5SEHkpp63"
      }
    },
    {
      "cell_type": "code",
      "source": [
        "# Helper function to load .npz data\n",
        "# Each .npz file contains an array under the key 'arr_0'\n",
        "def load(f):\n",
        "    return np.load(f)['arr_0']"
      ],
      "metadata": {
        "id": "5S3cthx57L2f"
      },
      "execution_count": 12,
      "outputs": []
    },
    {
      "cell_type": "markdown",
      "source": [
        "[3.4] **TODO** Load the 4 files saved on your Google Drive into their respective variables: x_train, y_train, x_test and y_test"
      ],
      "metadata": {
        "id": "8V2Ij9s7qRtj"
      }
    },
    {
      "cell_type": "code",
      "source": [
        "# Load KMNIST train/test images and labels\n",
        "x_train = load('kmnist-train-imgs.npz')\n",
        "x_test = load('kmnist-test-imgs.npz')\n",
        "y_train = load('kmnist-train-labels.npz')\n",
        "y_test = load('kmnist-test-labels.npz')"
      ],
      "metadata": {
        "id": "5XTkRb0lqpEE"
      },
      "execution_count": 13,
      "outputs": []
    },
    {
      "cell_type": "markdown",
      "source": [
        "[3.5] **TODO** Using matplotlib display the first image from the train set and its target value"
      ],
      "metadata": {
        "id": "3KC12nB7rlbV"
      }
    },
    {
      "cell_type": "code",
      "source": [
        "# Display the first training image and its corresponding label\n",
        "plt.imshow(x_train[0], cmap='gray')\n",
        "plt.title(f\"Label: {y_train[0]}\")\n",
        "plt.axis('off')\n",
        "plt.show()"
      ],
      "metadata": {
        "id": "AOtWg7bBrwmV",
        "colab": {
          "base_uri": "https://localhost:8080/",
          "height": 428
        },
        "outputId": "4cd25fb6-0801-4efc-a12d-bd29946b7e12"
      },
      "execution_count": 14,
      "outputs": [
        {
          "output_type": "display_data",
          "data": {
            "text/plain": [
              "<Figure size 640x480 with 1 Axes>"
            ],
            "image/png": "[encoded data removed]"
          },
          "metadata": {}
        }
      ]
    },
    {
      "cell_type": "markdown",
      "source": [
        "# 4. Prepare Data"
      ],
      "metadata": {
        "id": "htLk_27ir0B1"
      }
    },
    {
      "cell_type": "markdown",
      "source": [
        "[4.1] **TODO** Reshape the images from the training and testing set to have the channel dimension last. The dimensions should be: (row_number, height, width, channel)"
      ],
      "metadata": {
        "id": "VJEBe30Er33P"
      }
    },
    {
      "cell_type": "code",
      "source": [
        "# Reshape the data to add a channel dimension (for grayscale images)\n",
        "x_train = x_train.reshape(-1, 28, 28, 1)\n",
        "x_test = x_test.reshape(-1, 28, 28, 1)"
      ],
      "metadata": {
        "id": "1yqWleZasxdR"
      },
      "execution_count": 15,
      "outputs": []
    },
    {
      "cell_type": "markdown",
      "source": [
        "[4.2] **TODO** Cast `x_train` and `x_test` into `float32` decimals"
      ],
      "metadata": {
        "id": "F2f6wvFys2ZI"
      }
    },
    {
      "cell_type": "code",
      "source": [
        "# Convert image arrays to float32 before normalization\n",
        "x_train = x_train.astype(np.float32)\n",
        "x_test = x_test.astype(np.float32)"
      ],
      "metadata": {
        "id": "FWZmWe73tLXT"
      },
      "execution_count": 16,
      "outputs": []
    },
    {
      "cell_type": "markdown",
      "source": [
        "[4.3] **TODO** Standardise the images of the training and testing sets. Originally each image contains pixels with value ranging from 0 to 255. after standardisation, the new value range should be from 0 to 1."
      ],
      "metadata": {
        "id": "Z-1Jr0pKs6jv"
      }
    },
    {
      "cell_type": "code",
      "source": [
        "# Normalize pixel values to [0, 1]\n",
        "x_train = x_train / 255.0\n",
        "x_test = x_test / 255.0\n",
        "\n",
        "# Flatten the images to shape (num_samples, 784)\n",
        "x_train = x_train.reshape(x_train.shape[0], -1)\n",
        "x_test = x_test.reshape(x_test.shape[0], -1)"
      ],
      "metadata": {
        "id": "RXY1o272t0JO"
      },
      "execution_count": 17,
      "outputs": []
    },
    {
      "cell_type": "markdown",
      "source": [
        "[4.4] **TODO** Create a variable called `num_classes` that will take the value 10 which corresponds to the number of classes for the target variable"
      ],
      "metadata": {
        "id": "9eH4aZmXt7Fe"
      }
    },
    {
      "cell_type": "code",
      "source": [
        "# Set number of output classes (10 Hiragana characters)\n",
        "num_classes = 10"
      ],
      "metadata": {
        "id": "gTnMgLxYuUs6"
      },
      "execution_count": 18,
      "outputs": []
    },
    {
      "cell_type": "markdown",
      "source": [
        "[4.5] **TODO** Convert the target variable for the training and testing sets to a binary class matrix of dimension (rows, num_classes).\n",
        "\n",
        "For example:\n",
        "- class 0 will become [1, 0, 0, 0, 0, 0, 0, 0, 0, 0]\n",
        "- class 1 will become [0, 1, 0, 0, 0, 0, 0, 0, 0, 0]\n",
        "- class 5 will become [0, 0, 0, 0, 0, 1, 0, 0, 0, 0]\n",
        "- class 9 will become [0, 0, 0, 0, 0, 0, 0, 0, 0, 1]"
      ],
      "metadata": {
        "id": "iAy0fUJsuyhb"
      }
    },
    {
      "cell_type": "code",
      "source": [
        "# Convert label arrays to PyTorch tensors with Long data type\n",
        "y_train = torch.tensor(y_train, dtype=torch.long)\n",
        "y_test = torch.tensor(y_test, dtype=torch.long)"
      ],
      "metadata": {
        "id": "ysNg37Ukwq8S"
      },
      "execution_count": 19,
      "outputs": []
    },
    {
      "cell_type": "markdown",
      "source": [
        "# 5. Define Neural Networks Architecure"
      ],
      "metadata": {
        "id": "0OCorS00wxPN"
      }
    },
    {
      "cell_type": "markdown",
      "source": [
        "[5.1] Set the seed in PyTorch for reproducing results\n",
        "\n"
      ],
      "metadata": {
        "id": "7G_L-yqTxI1d"
      }
    },
    {
      "cell_type": "code",
      "source": [
        "# Set seed for reproducibility\n",
        "torch.manual_seed(42)"
      ],
      "metadata": {
        "id": "XB8OIC9wrgFG",
        "colab": {
          "base_uri": "https://localhost:8080/"
        },
        "outputId": "7cda8f5e-a17e-47e7-d4d7-9b1d61b59be9"
      },
      "execution_count": 20,
      "outputs": [
        {
          "output_type": "execute_result",
          "data": {
            "text/plain": [
              "<torch._C.Generator at 0x7d09a9371c50>"
            ]
          },
          "metadata": {},
          "execution_count": 20
        }
      ]
    },
    {
      "cell_type": "markdown",
      "source": [
        "[5.2] **TODO** Define the architecture of your Neural Networks and save it into a variable called `model`"
      ],
      "metadata": {
        "id": "5b93U4MixWeE"
      }
    },
    {
      "cell_type": "code",
      "source": [
        "# Define a simplified model (Experiment 3)\n",
        "# This model uses a lightweight architecture to test how reduced capacity and strong regularization affect performance.\n",
        "# - Input size: 784 (flattened 28x28 image)\n",
        "# - First hidden layer: 128 neurons + ReLU activation + 50% dropout\n",
        "# - Second hidden layer: 64 neurons + ReLU activation + 50% dropout\n",
        "# - Output layer: 10 neurons (one per KMNIST class)\n",
        "# This experiment investigates the impact of aggressive dropout and fewer parameters on model generalization.\n",
        "model = nn.Sequential(\n",
        "    nn.Linear(784, 128),\n",
        "    nn.ReLU(),\n",
        "    nn.Dropout(0.5),\n",
        "    nn.Linear(128, 64),\n",
        "    nn.ReLU(),\n",
        "    nn.Dropout(0.5),\n",
        "    nn.Linear(64, num_classes)\n",
        ")\n",
        "\n",
        "# Move model to GPU if available\n",
        "device = torch.device(\"cuda\" if torch.cuda.is_available() else \"cpu\")\n",
        "model.to(device)"
      ],
      "metadata": {
        "id": "gq1f74uKxpkp",
        "colab": {
          "base_uri": "https://localhost:8080/"
        },
        "outputId": "b30bc64b-d820-49a6-988e-6b7befe40cfa"
      },
      "execution_count": 21,
      "outputs": [
        {
          "output_type": "execute_result",
          "data": {
            "text/plain": [
              "Sequential(\n",
              "  (0): Linear(in_features=784, out_features=128, bias=True)\n",
              "  (1): ReLU()\n",
              "  (2): Dropout(p=0.5, inplace=False)\n",
              "  (3): Linear(in_features=128, out_features=64, bias=True)\n",
              "  (4): ReLU()\n",
              "  (5): Dropout(p=0.5, inplace=False)\n",
              "  (6): Linear(in_features=64, out_features=10, bias=True)\n",
              ")"
            ]
          },
          "metadata": {},
          "execution_count": 21
        }
      ]
    },
    {
      "cell_type": "markdown",
      "source": [
        "[5.2] **TODO** Print the summary of your model"
      ],
      "metadata": {
        "id": "0IvuMQ81xu5U"
      }
    },
    {
      "cell_type": "code",
      "source": [
        "# Print model structure\n",
        "print(model)"
      ],
      "metadata": {
        "id": "gBRm-h5dxvIw",
        "colab": {
          "base_uri": "https://localhost:8080/"
        },
        "outputId": "1af29aa2-2cc8-4023-bcb4-148543025370"
      },
      "execution_count": 22,
      "outputs": [
        {
          "output_type": "stream",
          "name": "stdout",
          "text": [
            "Sequential(\n",
            "  (0): Linear(in_features=784, out_features=128, bias=True)\n",
            "  (1): ReLU()\n",
            "  (2): Dropout(p=0.5, inplace=False)\n",
            "  (3): Linear(in_features=128, out_features=64, bias=True)\n",
            "  (4): ReLU()\n",
            "  (5): Dropout(p=0.5, inplace=False)\n",
            "  (6): Linear(in_features=64, out_features=10, bias=True)\n",
            ")\n"
          ]
        }
      ]
    },
    {
      "cell_type": "markdown",
      "source": [
        "# 6. Train Neural Networks"
      ],
      "metadata": {
        "id": "sOPTnNxtx6MC"
      }
    },
    {
      "cell_type": "markdown",
      "source": [
        "[6.1] **TODO** Create 2 variables called `batch_size` and `epochs` that will  respectively take the values 128 and 500"
      ],
      "metadata": {
        "id": "fsHJzhnAyP4H"
      }
    },
    {
      "cell_type": "code",
      "source": [
        "# Define training hyperparameters\n",
        "# batch_size controls the number of samples per gradient update\n",
        "# epochs are the number of complete passes through the training dataset\n",
        "batch_size = 128\n",
        "epochs = 500"
      ],
      "metadata": {
        "id": "hNe_Cia0yde-"
      },
      "execution_count": 23,
      "outputs": []
    },
    {
      "cell_type": "markdown",
      "source": [
        "[6.2] **TODO** Compile your model with the appropriate loss function, the optimiser of your choice and the accuracy metric"
      ],
      "metadata": {
        "id": "4-bAkzwXyjAs"
      }
    },
    {
      "cell_type": "code",
      "source": [
        "# Compile model with loss function, optimizer, and accuracy setup\n",
        "loss_fn = nn.CrossEntropyLoss()\n",
        "optimizer = torch.optim.Adam(model.parameters(), lr=0.001)\n",
        "\n",
        "# Convert training data to PyTorch tensors and move to device\n",
        "x_train_tensor = torch.tensor(x_train, dtype=torch.float32)\n",
        "y_train_tensor = torch.tensor(y_train, dtype=torch.long)\n",
        "\n",
        "# Wrap data into DataLoader for mini-batch training\n",
        "train_dataset = TensorDataset(x_train_tensor, y_train_tensor)\n",
        "train_loader = DataLoader(train_dataset, batch_size=batch_size, shuffle=True)"
      ],
      "metadata": {
        "id": "0WnNAYT6yjci",
        "colab": {
          "base_uri": "https://localhost:8080/"
        },
        "outputId": "69855986-a308-4afc-b9ab-a0fa3a0e4329"
      },
      "execution_count": 24,
      "outputs": [
        {
          "output_type": "stream",
          "name": "stderr",
          "text": [
            "<ipython-input-24-d0bd4f9cf251>:7: UserWarning: To copy construct from a tensor, it is recommended to use sourceTensor.clone().detach() or sourceTensor.clone().detach().requires_grad_(True), rather than torch.tensor(sourceTensor).\n",
            "  y_train_tensor = torch.tensor(y_train, dtype=torch.long)\n"
          ]
        }
      ]
    },
    {
      "cell_type": "markdown",
      "source": [
        "[6.3] **TODO** Train your model\n",
        "using the number of epochs defined. Calculate the total loss and save it to a variable called total_loss."
      ],
      "metadata": {
        "id": "iRvM_pEZy7SX"
      }
    },
    {
      "cell_type": "code",
      "source": [
        "#Training loop: trains the model for multiple epochs and tracks loss and accuracy\n",
        "total_loss = []\n",
        "\n",
        "for epoch in range(epochs):  # Iterate through each epoch\n",
        "    model.train()  # Set model to training mode to enable dropout\n",
        "    running_loss = 0.0\n",
        "    correct = 0\n",
        "    total = 0\n",
        "\n",
        "    for inputs, targets in train_loader:  # Iterate through training batches\n",
        "        inputs, targets = inputs.to(device), targets.to(device)\n",
        "\n",
        "        outputs = model(inputs)  # Forward pass: compute model output\n",
        "        loss = loss_fn(outputs, targets)  # Compute the loss between prediction and ground truth\n",
        "\n",
        "        optimizer.zero_grad()  # Clear gradients from previous step\n",
        "        loss.backward()  # Backpropagate the error\n",
        "        optimizer.step()  # Update model weights\n",
        "\n",
        "        running_loss += loss.item()\n",
        "        _, predicted = torch.max(outputs.data, 1)  # Get predicted class from output scores\n",
        "        total += targets.size(0)  # Count total number of samples processed\n",
        "        correct += (predicted == targets).sum().item()  # Count correctly predicted samples\n",
        "\n",
        "    avg_loss = running_loss / len(train_loader)  # Calculate average loss for this epoch\n",
        "    accuracy = 100 * correct / total  # Calculate accuracy percentage for this epoch\n",
        "    total_loss.append(avg_loss)  # Store the average loss to plot learning curve later\n",
        "\n",
        "    if (epoch + 1) % 10 == 0 or epoch == 0:  # Print progress every 10 epochs or first epoch\n",
        "        print(f\"Epoch [{epoch+1}/{epochs}] - Loss: {avg_loss:.4f} - Accuracy: {accuracy:.2f}%\")"
      ],
      "metadata": {
        "id": "EMzFo2r5JKn6",
        "colab": {
          "base_uri": "https://localhost:8080/"
        },
        "outputId": "7cc1e415-dda6-4165-b6c9-6593efc15d68"
      },
      "execution_count": 25,
      "outputs": [
        {
          "output_type": "stream",
          "name": "stdout",
          "text": [
            "Epoch [1/500] - Loss: 0.9452 - Accuracy: 70.48%\n",
            "Epoch [10/500] - Loss: 0.3423 - Accuracy: 89.84%\n",
            "Epoch [20/500] - Loss: 0.2966 - Accuracy: 91.08%\n",
            "Epoch [30/500] - Loss: 0.2702 - Accuracy: 91.75%\n",
            "Epoch [40/500] - Loss: 0.2563 - Accuracy: 92.15%\n",
            "Epoch [50/500] - Loss: 0.2458 - Accuracy: 92.48%\n",
            "Epoch [60/500] - Loss: 0.2318 - Accuracy: 92.67%\n",
            "Epoch [70/500] - Loss: 0.2314 - Accuracy: 92.81%\n",
            "Epoch [80/500] - Loss: 0.2161 - Accuracy: 93.15%\n",
            "Epoch [90/500] - Loss: 0.2122 - Accuracy: 93.27%\n",
            "Epoch [100/500] - Loss: 0.2028 - Accuracy: 93.47%\n",
            "Epoch [110/500] - Loss: 0.1986 - Accuracy: 93.80%\n",
            "Epoch [120/500] - Loss: 0.1943 - Accuracy: 93.70%\n",
            "Epoch [130/500] - Loss: 0.1918 - Accuracy: 93.88%\n",
            "Epoch [140/500] - Loss: 0.1880 - Accuracy: 93.90%\n",
            "Epoch [150/500] - Loss: 0.1854 - Accuracy: 94.07%\n",
            "Epoch [160/500] - Loss: 0.1826 - Accuracy: 94.07%\n",
            "Epoch [170/500] - Loss: 0.1793 - Accuracy: 94.26%\n",
            "Epoch [180/500] - Loss: 0.1795 - Accuracy: 94.25%\n",
            "Epoch [190/500] - Loss: 0.1720 - Accuracy: 94.45%\n",
            "Epoch [200/500] - Loss: 0.1764 - Accuracy: 94.33%\n",
            "Epoch [210/500] - Loss: 0.1715 - Accuracy: 94.54%\n",
            "Epoch [220/500] - Loss: 0.1666 - Accuracy: 94.57%\n",
            "Epoch [230/500] - Loss: 0.1696 - Accuracy: 94.48%\n",
            "Epoch [240/500] - Loss: 0.1646 - Accuracy: 94.58%\n",
            "Epoch [250/500] - Loss: 0.1648 - Accuracy: 94.56%\n",
            "Epoch [260/500] - Loss: 0.1580 - Accuracy: 94.84%\n",
            "Epoch [270/500] - Loss: 0.1604 - Accuracy: 94.79%\n",
            "Epoch [280/500] - Loss: 0.1618 - Accuracy: 94.72%\n",
            "Epoch [290/500] - Loss: 0.1589 - Accuracy: 94.83%\n",
            "Epoch [300/500] - Loss: 0.1572 - Accuracy: 94.86%\n",
            "Epoch [310/500] - Loss: 0.1551 - Accuracy: 94.97%\n",
            "Epoch [320/500] - Loss: 0.1546 - Accuracy: 94.96%\n",
            "Epoch [330/500] - Loss: 0.1542 - Accuracy: 95.02%\n",
            "Epoch [340/500] - Loss: 0.1511 - Accuracy: 95.14%\n",
            "Epoch [350/500] - Loss: 0.1506 - Accuracy: 95.05%\n",
            "Epoch [360/500] - Loss: 0.1519 - Accuracy: 95.03%\n",
            "Epoch [370/500] - Loss: 0.1519 - Accuracy: 94.99%\n",
            "Epoch [380/500] - Loss: 0.1470 - Accuracy: 95.15%\n",
            "Epoch [390/500] - Loss: 0.1459 - Accuracy: 95.22%\n",
            "Epoch [400/500] - Loss: 0.1446 - Accuracy: 95.14%\n",
            "Epoch [410/500] - Loss: 0.1436 - Accuracy: 95.20%\n",
            "Epoch [420/500] - Loss: 0.1481 - Accuracy: 95.18%\n",
            "Epoch [430/500] - Loss: 0.1424 - Accuracy: 95.19%\n",
            "Epoch [440/500] - Loss: 0.1408 - Accuracy: 95.31%\n",
            "Epoch [450/500] - Loss: 0.1406 - Accuracy: 95.41%\n",
            "Epoch [460/500] - Loss: 0.1402 - Accuracy: 95.37%\n",
            "Epoch [470/500] - Loss: 0.1409 - Accuracy: 95.37%\n",
            "Epoch [480/500] - Loss: 0.1415 - Accuracy: 95.25%\n",
            "Epoch [490/500] - Loss: 0.1390 - Accuracy: 95.36%\n",
            "Epoch [500/500] - Loss: 0.1419 - Accuracy: 95.36%\n"
          ]
        }
      ]
    },
    {
      "cell_type": "markdown",
      "source": [
        "[6.4] **TODO** Test your model.  Initiate the model.eval() along with torch.no_grad() to turn off the gradients.\n"
      ],
      "metadata": {
        "id": "emZ5Ayr88PZh"
      }
    },
    {
      "cell_type": "code",
      "source": [
        "# Evaluate model performance on test set\n",
        "# Set model to evaluation mode to disable dropout and use learned weights\n",
        "model.eval()\n",
        "\n",
        "# Convert test features to float tensor and move to device\n",
        "x_test_tensor = torch.tensor(x_test, dtype=torch.float32).to(device)\n",
        "# Ensure labels are already in tensor form and move to device\n",
        "y_test_tensor = y_test.to(device)\n",
        "\n",
        "# Wrap test data into a DataLoader\n",
        "test_dataset = TensorDataset(x_test_tensor, y_test_tensor)\n",
        "test_loader = DataLoader(test_dataset, batch_size=batch_size)\n",
        "\n",
        "# Initialize counters for accuracy computation\n",
        "correct = 0\n",
        "total = 0\n",
        "\n",
        "# Disable gradient tracking for faster and memory-efficient inference\n",
        "with torch.no_grad():\n",
        "    for inputs, targets in test_loader:\n",
        "        inputs, targets = inputs.to(device), targets.to(device)\n",
        "        outputs = model(inputs)\n",
        "        _, predicted = torch.max(outputs.data, 1)  # Get class with highest score\n",
        "        total += targets.size(0)\n",
        "        correct += (predicted == targets).sum().item()\n",
        "\n",
        "# Calculate and print overall test accuracy\n",
        "test_accuracy = 100 * correct / total\n",
        "print(f\"Test Accuracy: {test_accuracy:.2f}%\")"
      ],
      "metadata": {
        "id": "bfvBZ3zy8QM9",
        "colab": {
          "base_uri": "https://localhost:8080/"
        },
        "outputId": "1386ba27-e86e-4e93-afda-8d2e31bc320b"
      },
      "execution_count": 26,
      "outputs": [
        {
          "output_type": "stream",
          "name": "stdout",
          "text": [
            "Test Accuracy: 84.59%\n"
          ]
        }
      ]
    },
    {
      "cell_type": "markdown",
      "source": [
        "# 7. Analyse Results"
      ],
      "metadata": {
        "id": "vz9uFy_X6oeA"
      }
    },
    {
      "cell_type": "markdown",
      "source": [
        "[7.1] **TODO** Display the performance of your model on the training and testing sets"
      ],
      "metadata": {
        "id": "ddugPZhZ68Wb"
      }
    },
    {
      "cell_type": "code",
      "source": [
        "# Display final training and testing accuracy\n",
        "print(f\"Final Training Accuracy: {accuracy:.2f}%\")  # From last epoch of training loop\n",
        "print(f\"Final Test Accuracy: {test_accuracy:.2f}%\")  # From evaluation section"
      ],
      "metadata": {
        "id": "yihZIPZ_6sql",
        "colab": {
          "base_uri": "https://localhost:8080/"
        },
        "outputId": "7646c40e-dcc9-404e-e404-a88c6172f85f"
      },
      "execution_count": 27,
      "outputs": [
        {
          "output_type": "stream",
          "name": "stdout",
          "text": [
            "Final Training Accuracy: 95.36%\n",
            "Final Test Accuracy: 84.59%\n"
          ]
        }
      ]
    },
    {
      "cell_type": "markdown",
      "source": [
        "[7.2] **TODO** Plot the learning curve of your model"
      ],
      "metadata": {
        "id": "iBTo_xEI7K_z"
      }
    },
    {
      "cell_type": "code",
      "source": [
        "# Plot training loss over time\n",
        "# Plot the average training loss recorded after each epoch to visualize the learning curve.\n",
        "# This shows how well the model is learning over time and whether it's converging or not.\n",
        "import matplotlib.pyplot as plt\n",
        "\n",
        "plt.plot(total_loss, label='Training Loss')\n",
        "plt.title(\"Training Loss Over Epochs\")\n",
        "plt.xlabel(\"Epoch\")\n",
        "plt.ylabel(\"Loss\")\n",
        "plt.grid(True)\n",
        "plt.legend()\n",
        "plt.show()"
      ],
      "metadata": {
        "id": "jRt_4W2F7RVV",
        "colab": {
          "base_uri": "https://localhost:8080/",
          "height": 472
        },
        "outputId": "a72f6b6a-64cb-4376-c461-698242828c62"
      },
      "execution_count": 28,
      "outputs": [
        {
          "output_type": "display_data",
          "data": {
            "text/plain": [
              "<Figure size 640x480 with 1 Axes>"
            ],
            "image/png": "[encoded data removed]"
          },
          "metadata": {}
        }
      ]
    },
    {
      "cell_type": "markdown",
      "source": [
        "[7.3] **TODO** Display the confusion matrix on the testing set predictions"
      ],
      "metadata": {
        "id": "qKPu98GR7a17"
      }
    },
    {
      "cell_type": "code",
      "source": [
        "# Generate and display confusion matrix to visualize model performance across all classes\n",
        "from sklearn.metrics import confusion_matrix, ConfusionMatrixDisplay\n",
        "\n",
        "y_true = []  # Ground truth labels\n",
        "y_pred = []  # Model predictions\n",
        "\n",
        "model.eval()\n",
        "with torch.no_grad():\n",
        "    for inputs, targets in test_loader:\n",
        "        inputs, targets = inputs.to(device), targets.to(device)\n",
        "        outputs = model(inputs)\n",
        "        _, predicted = torch.max(outputs.data, 1)\n",
        "        y_true.extend(targets.cpu().numpy())\n",
        "        y_pred.extend(predicted.cpu().numpy())\n",
        "\n",
        "cm = confusion_matrix(y_true, y_pred)  # Compute confusion matrix from predictions and true labels\n",
        "disp = ConfusionMatrixDisplay(confusion_matrix=cm)  # Create display object for visualization\n",
        "disp.plot(cmap='Blues')  # Plot the confusion matrix using a blue color map\n",
        "plt.title(\"Confusion Matrix on Test Set\")\n",
        "plt.show()"
      ],
      "metadata": {
        "id": "TkrP9JCgMzpT",
        "colab": {
          "base_uri": "https://localhost:8080/",
          "height": 472
        },
        "outputId": "169c93b7-c458-404c-d039-28a97f6473c0"
      },
      "execution_count": 29,
      "outputs": [
        {
          "output_type": "display_data",
          "data": {
            "text/plain": [
              "<Figure size 640x480 with 2 Axes>"
            ],
            "image/png": "[encoded data removed]"
          },
          "metadata": {}
        }
      ]
    }
  ]
}